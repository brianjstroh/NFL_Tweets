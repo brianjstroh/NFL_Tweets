{
 "cells": [
  {
   "cell_type": "markdown",
   "metadata": {},
   "source": [
    "<img src=\"https://datasciencedegree.wisconsin.edu/wp-content/themes/data-gulp/images/logo.svg\" width=\"300\">\n"
   ]
  },
  {
   "cell_type": "markdown",
   "metadata": {},
   "source": [
    "# Final Project - Earth's Favorite Football Team\n",
    "### By: Brian Stroh\n",
    "### Date: 12/6/2019"
   ]
  },
  {
   "cell_type": "markdown",
   "metadata": {},
   "source": [
    "In the late 1970's, the Dallas Cowboys were coined as \"America's Team\" (See https://en.wikipedia.org/wiki/America%27s_Team ). A lot has changed since the 70's and whereas the Cowboys are leading their division with a baffling record of 6-7, I believe they are no longer the most exciting organization in football.\n",
    "\n",
    "The goal of this project will be to identify the modern day \"America's Team\". The criteria will be the most popular team as determined by number of tweets mentioning the NFL teams in the time frame of 12/6/2019 to 12/10/2019.\n",
    "\n",
    "Limitations of the data analysis stem from the data collection process. In order to prevent the API from being overloaded or exploited, Twitter's Streaming API limits the number of tweets that can be extracted. Fortunately, all NFL teams have games this week, so the analysis will not be skewed from that perspective. However, the Cowboys and Bears game was a day before the tweets began to be collected, so there may be a slight under-representation of those two teams, as their most exciting moments of the week have passed."
   ]
  },
  {
   "cell_type": "code",
   "execution_count": 1,
   "metadata": {},
   "outputs": [],
   "source": [
    "import tweepy\n",
    "import os\n",
    "import csv\n",
    "os.chdir('C:/Users/brian/Desktop/All/UWEC/DS710_Programming_For_Data_Science/GitHub/ds710fall2019finalproject/')"
   ]
  },
  {
   "cell_type": "code",
   "execution_count": 2,
   "metadata": {},
   "outputs": [],
   "source": [
    "%run C:/Users/brian/Desktop/All/UWEC/DS710_Programming_For_Data_Science/GitHub/ds710fall2019finalproject/twitter_credentials.py\n",
    "# this cell will evaluate silently 🙊, and not print anything.  \n",
    "# This is desired, because a person with your keys can act as you on Twitter in literally every way 😟"
   ]
  },
  {
   "cell_type": "code",
   "execution_count": 3,
   "metadata": {},
   "outputs": [],
   "source": [
    "#Use tweepy.OAuthHandler to create an authentication using the given key and secret\n",
    "auth = tweepy.OAuthHandler(consumer_key=con_key, consumer_secret=con_secret)\n",
    "auth.set_access_token(acc_token, acc_secret)\n",
    "\n",
    "#Connect to the Twitter API using the authentication\n",
    "api = tweepy.API(auth)"
   ]
  },
  {
   "cell_type": "code",
   "execution_count": 4,
   "metadata": {},
   "outputs": [],
   "source": [
    "#We create a subclass of tweepy.StreamListener to add a response to on_status\n",
    "\n",
    "class PrintingStreamListener(tweepy.StreamListener):\n",
    "    \n",
    "    def on_status(self, status):\n",
    "        #Extract tweet text\n",
    "        with open('text.csv', 'a', encoding=\"utf-8\") as f:\n",
    "            writer = csv.writer(f)\n",
    "            #This block comes from Twitter's API documentation: http://docs.tweepy.org/en/latest/extended_tweets.html\n",
    "            if hasattr(status, \"retweeted_status\"):  # Check if Retweet\n",
    "                try:\n",
    "                    writer.writerow(status.retweeted_status.extended_tweet[\"full_text\"])\n",
    "                except AttributeError:\n",
    "                    writer.writerow(status.retweeted_status.text)\n",
    "            else:\n",
    "                try:\n",
    "                    writer.writerow(status.extended_tweet[\"full_text\"])\n",
    "                except AttributeError:\n",
    "                    writer.writerow(status.text)\n",
    "        \n",
    "        #Extract tweet place (if applicable)\n",
    "        with open('place.csv', 'a', encoding=\"utf-8\") as f:\n",
    "            writer = csv.writer(f)\n",
    "            writer.writerow([status.place])\n",
    "            \n",
    "        #Extract full tweet information\n",
    "        with open('full.csv', 'a', encoding=\"utf-8\") as f:\n",
    "            writer = csv.writer(f)\n",
    "            writer.writerow([status])\n",
    "            \n",
    "    #disconnect the stream if we receive an error message indicating we are overloading Twitter\n",
    "    def on_error(self, status_code):\n",
    "        if status_code == 420:\n",
    "            #returning False in on_data disconnects the stream\n",
    "            return False"
   ]
  },
  {
   "cell_type": "markdown",
   "metadata": {},
   "source": [
    "Once we have created our subclass, we can set up our own Twitter stream."
   ]
  },
  {
   "cell_type": "code",
   "execution_count": 5,
   "metadata": {},
   "outputs": [],
   "source": [
    "#We create and authenticate an instance of our new ```PrintingStreamListener``` class\n",
    "\n",
    "my_stream_listener = PrintingStreamListener()\n",
    "my_stream = tweepy.Stream(auth = api.auth, listener=my_stream_listener, tweet_mode = 'extended')"
   ]
  },
  {
   "cell_type": "code",
   "execution_count": 6,
   "metadata": {},
   "outputs": [],
   "source": [
    "#The try-except here will suppress the big ugly traceback error that comes when the code is interrupted\n",
    "try:\n",
    "    my_stream.filter(track=['NFL'])\n",
    "except KeyboardInterrupt:\n",
    "    pass"
   ]
  },
  {
   "cell_type": "code",
   "execution_count": 7,
   "metadata": {},
   "outputs": [],
   "source": [
    "my_stream.disconnect()"
   ]
  }
 ],
 "metadata": {
  "kernelspec": {
   "display_name": "Python 3",
   "language": "python",
   "name": "python3"
  },
  "language_info": {
   "codemirror_mode": {
    "name": "ipython",
    "version": 3
   },
   "file_extension": ".py",
   "mimetype": "text/x-python",
   "name": "python",
   "nbconvert_exporter": "python",
   "pygments_lexer": "ipython3",
   "version": "3.7.3"
  }
 },
 "nbformat": 4,
 "nbformat_minor": 1
}
