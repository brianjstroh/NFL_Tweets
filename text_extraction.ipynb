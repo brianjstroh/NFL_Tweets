{
 "cells": [
  {
   "cell_type": "markdown",
   "metadata": {},
   "source": [
    "The following code chunk was run in R before I realized I should be extracting data in Python first"
   ]
  },
  {
   "cell_type": "code",
   "execution_count": 1,
   "metadata": {},
   "outputs": [],
   "source": [
    "#Combine csv files\n",
    "\n",
    "# all_place <- readLines(\"place_only.csv\", skipNul = T)\n",
    "# all_place <- c(all_place, readLines(\"place_only_2.csv\", skipNul = T))\n",
    "# all_place <- c(all_place, readLines(\"place_only_3.csv\", skipNul = T))\n",
    "# length(all_place) = 740165\n",
    "# \n",
    "# all_text <- readLines(\"text_only.csv\")\n",
    "# all_text <- c(all_text, readLines(\"text_only_2.csv\"))\n",
    "# all_text <- c(all_text, readLines(\"text_only_3.csv\"))\n",
    "# length(all_text) = 1792511\n",
    "\n",
    "#I had a feeling that the Python script may not capture all places and text in a fashion that lines up.\n",
    "#This is why I captured the full tweet data!\n",
    "#The only problem is that the full tweet data is stored in 18 GBs worth of data.\n",
    "#Since it's very easy to split large files on Windows using Git Bash (https://gitforwindows.org/), I did so for each of my tweet files.\n",
    "#This is the command that was used on each of the full_tweets#.csv files: \"split full_tweets_#.csv tweets# -l 10000 -d\"\n",
    "#This means that all but the last files in each split will have 10000 lines."
   ]
  },
  {
   "cell_type": "code",
   "execution_count": 2,
   "metadata": {},
   "outputs": [],
   "source": [
    "import numpy as np"
   ]
  },
  {
   "cell_type": "code",
   "execution_count": 3,
   "metadata": {},
   "outputs": [],
   "source": [
    "num_1s = 6\n",
    "num_2s = 41\n",
    "num_3s = 29"
   ]
  },
  {
   "cell_type": "code",
   "execution_count": 4,
   "metadata": {},
   "outputs": [],
   "source": [
    "with open(\"tweets328\", encoding = \"utf-8\") as curr_tweets:\n",
    "    tweets = curr_tweets.readlines()"
   ]
  },
  {
   "cell_type": "code",
   "execution_count": 5,
   "metadata": {},
   "outputs": [
    {
     "data": {
      "text/plain": [
       "['Cardinals',\n",
       " 'Falcons',\n",
       " 'Ravens',\n",
       " 'Bills',\n",
       " 'Panthers',\n",
       " 'Bears',\n",
       " 'Bengals',\n",
       " 'Browns',\n",
       " 'Cowboys',\n",
       " 'Broncos',\n",
       " 'Lions',\n",
       " 'Packers',\n",
       " 'Texans',\n",
       " 'Colts',\n",
       " 'Jaguars',\n",
       " 'Chiefs',\n",
       " 'Chargers',\n",
       " 'Rams',\n",
       " 'Dolphins',\n",
       " 'Vikings',\n",
       " 'Patriots',\n",
       " 'Saints',\n",
       " 'Giants',\n",
       " 'Jets',\n",
       " 'Raiders',\n",
       " 'Eagles',\n",
       " 'Steelers',\n",
       " '49ers',\n",
       " 'Seahawks',\n",
       " 'Buccaneers',\n",
       " 'Titans',\n",
       " 'Redskins']"
      ]
     },
     "execution_count": 5,
     "metadata": {},
     "output_type": "execute_result"
    }
   ],
   "source": [
    "with open('teams.txt', encoding='utf-8-sig') as team_file:\n",
    "    teams = [line.strip() for line in team_file]\n",
    "teams"
   ]
  },
  {
   "cell_type": "code",
   "execution_count": 6,
   "metadata": {},
   "outputs": [],
   "source": [
    "#Get counts of team names in current file\n",
    "test = [sum([curr_team in curr_tweet for curr_tweet in tweets]) for curr_team in teams]"
   ]
  },
  {
   "cell_type": "code",
   "execution_count": 7,
   "metadata": {},
   "outputs": [
    {
     "data": {
      "text/plain": [
       "[14,\n",
       " 30,\n",
       " 171,\n",
       " 128,\n",
       " 18,\n",
       " 26,\n",
       " 187,\n",
       " 44,\n",
       " 104,\n",
       " 38,\n",
       " 21,\n",
       " 49,\n",
       " 9,\n",
       " 30,\n",
       " 17,\n",
       " 61,\n",
       " 25,\n",
       " 32,\n",
       " 23,\n",
       " 18,\n",
       " 396,\n",
       " 52,\n",
       " 35,\n",
       " 35,\n",
       " 32,\n",
       " 124,\n",
       " 289,\n",
       " 65,\n",
       " 51,\n",
       " 5,\n",
       " 120,\n",
       " 21]"
      ]
     },
     "execution_count": 7,
     "metadata": {},
     "output_type": "execute_result"
    }
   ],
   "source": [
    "test"
   ]
  },
  {
   "cell_type": "code",
   "execution_count": 8,
   "metadata": {},
   "outputs": [
    {
     "data": {
      "text/plain": [
       "array([ 28,  60, 342, 256,  36,  52, 374,  88, 208,  76,  42,  98,  18,\n",
       "        60,  34, 122,  50,  64,  46,  36, 792, 104,  70,  70,  64, 248,\n",
       "       578, 130, 102,  10, 240,  42])"
      ]
     },
     "execution_count": 8,
     "metadata": {},
     "output_type": "execute_result"
    }
   ],
   "source": [
    "np.array(test) + np.array(test)"
   ]
  }
 ],
 "metadata": {
  "kernelspec": {
   "display_name": "Python 3",
   "language": "python",
   "name": "python3"
  },
  "language_info": {
   "codemirror_mode": {
    "name": "ipython",
    "version": 3
   },
   "file_extension": ".py",
   "mimetype": "text/x-python",
   "name": "python",
   "nbconvert_exporter": "python",
   "pygments_lexer": "ipython3",
   "version": "3.7.3"
  }
 },
 "nbformat": 4,
 "nbformat_minor": 2
}
